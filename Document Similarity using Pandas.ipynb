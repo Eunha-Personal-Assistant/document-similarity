{
 "cells": [
  {
   "cell_type": "markdown",
   "metadata": {},
   "source": [
    "# Import Packages"
   ]
  },
  {
   "cell_type": "code",
   "execution_count": 25,
   "metadata": {
    "ExecuteTime": {
     "end_time": "2020-03-14T09:03:48.679323Z",
     "start_time": "2020-03-14T09:03:48.672729Z"
    }
   },
   "outputs": [],
   "source": [
    "import pandas as pd\n",
    "\n",
    "from sklearn.feature_extraction.text import TfidfVectorizer\n",
    "from sklearn.metrics.pairwise import cosine_distances\n",
    "from nltk.tokenize import word_tokenize\n",
    "from nltk.corpus import stopwords\n",
    "from string import punctuation\n",
    "\n",
    "sw_indo = stopwords.words(\"indonesian\") + list(punctuation)"
   ]
  },
  {
   "cell_type": "markdown",
   "metadata": {},
   "source": [
    "# Read Dataset"
   ]
  },
  {
   "cell_type": "code",
   "execution_count": 16,
   "metadata": {
    "ExecuteTime": {
     "end_time": "2020-03-14T09:00:45.538315Z",
     "start_time": "2020-03-14T09:00:45.445789Z"
    }
   },
   "outputs": [
    {
     "data": {
      "text/html": [
       "<div>\n",
       "<style scoped>\n",
       "    .dataframe tbody tr th:only-of-type {\n",
       "        vertical-align: middle;\n",
       "    }\n",
       "\n",
       "    .dataframe tbody tr th {\n",
       "        vertical-align: top;\n",
       "    }\n",
       "\n",
       "    .dataframe thead th {\n",
       "        text-align: right;\n",
       "    }\n",
       "</style>\n",
       "<table border=\"1\" class=\"dataframe\">\n",
       "  <thead>\n",
       "    <tr style=\"text-align: right;\">\n",
       "      <th></th>\n",
       "      <th>teks</th>\n",
       "    </tr>\n",
       "  </thead>\n",
       "  <tbody>\n",
       "    <tr>\n",
       "      <th>0</th>\n",
       "      <td>Ginandjar Tetap Ditahan. Jaksa Agung Dilaporka...</td>\n",
       "    </tr>\n",
       "    <tr>\n",
       "      <th>1</th>\n",
       "      <td>Jakarta Dikangkangi Para Preman\\nKALAU tak pun...</td>\n",
       "    </tr>\n",
       "    <tr>\n",
       "      <th>2</th>\n",
       "      <td>Penyimpangan di Setpres Seolah Terjadi Sekaran...</td>\n",
       "    </tr>\n",
       "    <tr>\n",
       "      <th>3</th>\n",
       "      <td>Dibayarkan, Rapel Kenaikan Gaji Pegawai Pos\\nK...</td>\n",
       "    </tr>\n",
       "    <tr>\n",
       "      <th>4</th>\n",
       "      <td>Stop Kekerasan, Elite agar Duduk Bersama\\nSeju...</td>\n",
       "    </tr>\n",
       "  </tbody>\n",
       "</table>\n",
       "</div>"
      ],
      "text/plain": [
       "                                                teks\n",
       "0  Ginandjar Tetap Ditahan. Jaksa Agung Dilaporka...\n",
       "1  Jakarta Dikangkangi Para Preman\\nKALAU tak pun...\n",
       "2  Penyimpangan di Setpres Seolah Terjadi Sekaran...\n",
       "3  Dibayarkan, Rapel Kenaikan Gaji Pegawai Pos\\nK...\n",
       "4  Stop Kekerasan, Elite agar Duduk Bersama\\nSeju..."
      ]
     },
     "execution_count": 16,
     "metadata": {},
     "output_type": "execute_result"
    }
   ],
   "source": [
    "df = pd.read_csv(\"./data/kompas.csv\")\n",
    "df.head()"
   ]
  },
  {
   "cell_type": "markdown",
   "metadata": {},
   "source": [
    "# Info Dataset"
   ]
  },
  {
   "cell_type": "code",
   "execution_count": 17,
   "metadata": {
    "ExecuteTime": {
     "end_time": "2020-03-14T09:00:46.669595Z",
     "start_time": "2020-03-14T09:00:46.658249Z"
    }
   },
   "outputs": [
    {
     "name": "stdout",
     "output_type": "stream",
     "text": [
      "<class 'pandas.core.frame.DataFrame'>\n",
      "RangeIndex: 2008 entries, 0 to 2007\n",
      "Data columns (total 1 columns):\n",
      "teks    2008 non-null object\n",
      "dtypes: object(1)\n",
      "memory usage: 9.5 MB\n"
     ]
    }
   ],
   "source": [
    "df.info(memory_usage=\"deep\")"
   ]
  },
  {
   "cell_type": "markdown",
   "metadata": {},
   "source": [
    "# Preprocessing"
   ]
  },
  {
   "cell_type": "code",
   "execution_count": 18,
   "metadata": {
    "ExecuteTime": {
     "end_time": "2020-03-14T09:00:47.918641Z",
     "start_time": "2020-03-14T09:00:47.914138Z"
    }
   },
   "outputs": [],
   "source": [
    "def text_preprocessing(text: str) -> str:\n",
    "\n",
    "    text = text.lower()\n",
    "    text = \" \".join([word for word in word_tokenize(text) if word not in sw_indo])\n",
    "    return text"
   ]
  },
  {
   "cell_type": "markdown",
   "metadata": {},
   "source": [
    "# Vectorizer"
   ]
  },
  {
   "cell_type": "code",
   "execution_count": 19,
   "metadata": {
    "ExecuteTime": {
     "end_time": "2020-03-14T09:01:40.394848Z",
     "start_time": "2020-03-14T09:01:11.300729Z"
    }
   },
   "outputs": [],
   "source": [
    "tfidf = TfidfVectorizer(\n",
    "    ngram_range=(1, 2), \n",
    "    tokenizer=word_tokenize, \n",
    "    preprocessor=text_preprocessing\n",
    ")\n",
    "tfidf_matrix = tfidf.fit_transform(df.teks.values)"
   ]
  },
  {
   "cell_type": "markdown",
   "metadata": {},
   "source": [
    "# Document Similarity"
   ]
  },
  {
   "cell_type": "code",
   "execution_count": 39,
   "metadata": {
    "ExecuteTime": {
     "end_time": "2020-03-14T09:06:19.142973Z",
     "start_time": "2020-03-14T09:06:19.132489Z"
    }
   },
   "outputs": [
    {
     "data": {
      "text/plain": [
       "array([0., 0., 0., ..., 0., 0., 0.])"
      ]
     },
     "execution_count": 39,
     "metadata": {},
     "output_type": "execute_result"
    }
   ],
   "source": [
    "tfidf.transform([\"asdda\", \"asdda\"]).toarray()[0]"
   ]
  },
  {
   "cell_type": "code",
   "execution_count": 52,
   "metadata": {
    "ExecuteTime": {
     "end_time": "2020-03-14T09:10:24.340814Z",
     "start_time": "2020-03-14T09:10:24.309901Z"
    }
   },
   "outputs": [
    {
     "data": {
      "text/plain": [
       "['Arsenal dan Liverpool Siap Melejit\\n\\nArsenal dan Liverpool bersiap-siap melejit meninggalkan juara be',\n",
       " 'Italia, Perancis, Jerman, Brasil Sukses dalam Uji Coba\\n\\nEmpat tim mapan, Italia, Perancis, Jerman, d',\n",
       " 'Kecelakaan di Tol Cacing, Tiga Tewas\\n\\nTiga orang tewas di tempat dan 16 orang lainnya luka-luka akib',\n",
       " ' Timtim: Kalau UNTAET Pergi\\n\\nKALAU UNTAET pergi, kami bagaimana?\"......... ....Kalimat itu diucapkan',\n",
       " 'Joseph Estrada Muncul Kembali\\n\\nMeski telah disingkirkan dari kekuasaannya, mantan Presiden Filipina ',\n",
       " 'Deportivo La Coruna Lapangkan Jalan Bayer Leverkusen\\n\\nDi luar dugaan, Deportivo La Coruna dipaksa me',\n",
       " 'Empat Perwira Penerbang Tewas\\n\\nDua pesawat tempur jenis Hawk MK-53 \"bersenggolan\" saat latihan di ar',\n",
       " 'Forum Dialog Barat-Islam   Tidak Ada Terorisme Berbasis Agama\\n\\nTidak ada satu agama pun di dunia yan',\n",
       " 'Pemerintah Sediakan Rp 33 Milyar untuk Bangun Rumah di Poso\\n\\nPemerintah pusat mengalokasikan dana se',\n",
       " 'Kontak Tembak  TNI-GAM, Lima Orang Tewas\\n\\nPasukan Tentara Nasional Indonesia (TNI) mengklaim menemba']"
      ]
     },
     "execution_count": 52,
     "metadata": {},
     "output_type": "execute_result"
    }
   ],
   "source": [
    "def document_similarity(documents, compared_doc,model, tfidf_matrix, topN=10):\n",
    "    idx_documents = cosine_distances(model.transform([compared_doc]).toarray(), tfidf_matrix)[0].argsort()[:10]\n",
    "    \n",
    "    return [documents[idx][:100] for idx in idx_documents]\n",
    "\n",
    "document_similarity(df.teks, \"christiano ronaldo\", tfidf, tfidf_matrix)"
   ]
  },
  {
   "cell_type": "code",
   "execution_count": 54,
   "metadata": {
    "ExecuteTime": {
     "end_time": "2020-03-14T09:15:37.697435Z",
     "start_time": "2020-03-14T09:15:37.661811Z"
    }
   },
   "outputs": [
    {
     "data": {
      "text/plain": [
       "['Masyarakat Harus Waspadai Leptospirosis\\n\\nDinas Kesehatan DKI Jakarta bekerja sama dengan Departemen ',\n",
       " 'Leptospirosis yang Mematikan Itu\\n\\nSUHANDI (42) mengira sakitnya cuma demam biasa. Tubuhnya menggigil',\n",
       " '20 Tahun AIDS   Masih Banyak yang Belum Terjawab\\n\\nDALAM 20 tahun terakhir sejak kasus-kasus pertama ',\n",
       " 'Korban Banjir Terserang Berbagai Penyakit\\n\\nBerbagai penyakit, terutama infeksi saluran pernapasan at',\n",
       " 'LAPORAN IPTEK Terapi Gen, untuk Kualitas Hidup Manusia\\n\\nSETELAH era mikrobiologi dan sintesa zat akt',\n",
       " 'Kotak Pandora Rekayasa Genetika  LAPORAN IPTEK\\nLUAR biasa. Lebih dari 40 ton benih kapas transgenik ',\n",
       " 'RS Panti Wilasa Terbakar, Ratusan Pasien Diungsikan\\nRatusan pasien Rumah Sakit (RS) Panti Wilasa di ',\n",
       " 'Mengapa Belanda Pilih Euthanasia?\\nBERITA dari Belanda kembali menghiasi halaman pertama media cetak ',\n",
       " 'Wapres tentang Pendidikan dan Kesehatan:  Indonesia Sangat Tertinggal\\n\\nIndonesia sangat tertinggal d',\n",
       " 'Kalau Belasan Orang Gila Kabur\\n\\nKALAU penjahat atau maling dari penjara kabur atau menjebol penjara,']"
      ]
     },
     "execution_count": 54,
     "metadata": {},
     "output_type": "execute_result"
    }
   ],
   "source": [
    "example_documents = \"\"\"\n",
    "Beberapa gejala infeksi virus corona (Covid-19) adalah sakit tenggorokan, demam, dan batuk. Sekilas memang mirip dengan gejala flu. Namun para ahli menegaskan, virus corona berbeda dengan flu biasa dari sisi risiko dan penularan.\n",
    "\n",
    "Virus corona terbukti menimbulkan kematian sebesar 3,5 persen dari kasus pasien positif.\n",
    "\n",
    "Angka ini jauh lebih tinggi daripada potensi kematian pada flu biasa, yang hanya 0,1 persen dari pasien.\n",
    "\n",
    "Itu berarti, rata-rata risiko kematian pada virus corona lebih tinggi 20 kali lipat dari flu biasa.\n",
    "\n",
    "\"Terdapat ketidakpastian besar terkait tingkat kematian virus corona. Kemungkinannya bervariasi tergantung pada kualitas layanan kesehatan lokal,\" kata Profesor Biologi Sistem Komputasi di University College London, Francois Balloux.\n",
    "\n",
    "Para ahli mengatakan bahaya sebenarnya dari virus corona bukanlah korban jiwa. Namun rumah sakit dapat kewalahan oleh jumlah kasus yang memerlukan rawat inap dan ventilasi untuk mendukung pernapasan.\n",
    "\n",
    "Sebuah analisis terhadap 45 ribu kasus di China, sebagian besar kematian adalah orang tua, yakni 14,8 persen dari korban meninggal usianya lebih dari 80-an).\n",
    "\n",
    "Namun demikian, penelitian juga menyebutkan 41 persen kasus serius terjadi di bawah usia 50 tahun.\n",
    "\n",
    "Sedangkan 27 persen kasus serius menimpa pasien dengan usia di atas 65 tahun.\n",
    "\n",
    "\"Memang benar bahwa jika Anda lebih tua Anda berisiko lebih besar, tetapi kasus-kasus serius juga dapat terjadi pada orang yang relatif muda tanpa kondisi (sakit) sebelumnya,\" kata Wakil Menteri Kesehatan Prancis Jerome Salomon.\n",
    "\n",
    "Para ahli penyakit memperkirakan setiap penderita virus corona dapat menginfeksi dua hingga tiga orang lainnya.\n",
    "\n",
    "Tingkat penularan itu jauh lebih tinggi dari flu biasa yang menginfeksi 1,3 orang baru untuk setiap pasien.\n",
    "\"\"\"\n",
    "\n",
    "document_similarity(df.teks, example_documents, tfidf, tfidf_matrix)"
   ]
  },
  {
   "cell_type": "code",
   "execution_count": null,
   "metadata": {},
   "outputs": [],
   "source": []
  }
 ],
 "metadata": {
  "kernelspec": {
   "display_name": "Python [conda env:jcop]",
   "language": "python",
   "name": "conda-env-jcop-py"
  },
  "language_info": {
   "codemirror_mode": {
    "name": "ipython",
    "version": 3
   },
   "file_extension": ".py",
   "mimetype": "text/x-python",
   "name": "python",
   "nbconvert_exporter": "python",
   "pygments_lexer": "ipython3",
   "version": "3.6.7"
  },
  "varInspector": {
   "cols": {
    "lenName": 16,
    "lenType": 16,
    "lenVar": 40
   },
   "kernels_config": {
    "python": {
     "delete_cmd_postfix": "",
     "delete_cmd_prefix": "del ",
     "library": "var_list.py",
     "varRefreshCmd": "print(var_dic_list())"
    },
    "r": {
     "delete_cmd_postfix": ") ",
     "delete_cmd_prefix": "rm(",
     "library": "var_list.r",
     "varRefreshCmd": "cat(var_dic_list()) "
    }
   },
   "types_to_exclude": [
    "module",
    "function",
    "builtin_function_or_method",
    "instance",
    "_Feature"
   ],
   "window_display": false
  }
 },
 "nbformat": 4,
 "nbformat_minor": 2
}
